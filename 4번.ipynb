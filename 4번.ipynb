{
  "nbformat": 4,
  "nbformat_minor": 0,
  "metadata": {
    "colab": {
      "name": "4번.ipynb",
      "provenance": [],
      "collapsed_sections": [],
      "authorship_tag": "ABX9TyOTjOw7a8I/xQSacmuaZS10",
      "include_colab_link": true
    },
    "kernelspec": {
      "name": "python3",
      "display_name": "Python 3"
    },
    "language_info": {
      "name": "python"
    }
  },
  "cells": [
    {
      "cell_type": "markdown",
      "metadata": {
        "id": "view-in-github",
        "colab_type": "text"
      },
      "source": [
        "<a href=\"https://colab.research.google.com/github/eejuya/BCP/blob/main/4%EB%B2%88.ipynb\" target=\"_parent\"><img src=\"https://colab.research.google.com/assets/colab-badge.svg\" alt=\"Open In Colab\"/></a>"
      ]
    },
    {
      "cell_type": "code",
      "execution_count": 5,
      "metadata": {
        "colab": {
          "base_uri": "https://localhost:8080/"
        },
        "id": "HutexTTMNYtd",
        "outputId": "433d04ac-478b-416f-b031-067d0a86e4ce"
      },
      "outputs": [
        {
          "output_type": "stream",
          "name": "stdout",
          "text": [
            "1\n",
            "5\n",
            "2\n"
          ]
        }
      ],
      "source": [
        "t = int(input())\n",
        "for i in range(t):\n",
        " n= int(input())\n",
        " result = 1\n",
        "for i in range (1,n+1):\n",
        " result *= i\n",
        "while result %10 == 0:\n",
        " result //= 10\n",
        " result %=1000\n",
        " result%= 10\n",
        "print(result)"
      ]
    }
  ]
}