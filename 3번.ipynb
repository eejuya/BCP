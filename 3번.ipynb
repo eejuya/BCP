{
  "nbformat": 4,
  "nbformat_minor": 0,
  "metadata": {
    "colab": {
      "name": "3번.ipynb",
      "provenance": [],
      "collapsed_sections": [],
      "authorship_tag": "ABX9TyM4gUxlIKFcFEvW0lS81qhW",
      "include_colab_link": true
    },
    "kernelspec": {
      "name": "python3",
      "display_name": "Python 3"
    },
    "language_info": {
      "name": "python"
    }
  },
  "cells": [
    {
      "cell_type": "markdown",
      "metadata": {
        "id": "view-in-github",
        "colab_type": "text"
      },
      "source": [
        "<a href=\"https://colab.research.google.com/github/eejuya/BCP/blob/main/3%EB%B2%88.ipynb\" target=\"_parent\"><img src=\"https://colab.research.google.com/assets/colab-badge.svg\" alt=\"Open In Colab\"/></a>"
      ]
    },
    {
      "cell_type": "code",
      "execution_count": 6,
      "metadata": {
        "colab": {
          "base_uri": "https://localhost:8080/"
        },
        "id": "SHY_3OLASZpL",
        "outputId": "84a260c0-87c0-4297-df7a-3d2488a29955"
      },
      "outputs": [
        {
          "output_type": "stream",
          "name": "stdout",
          "text": [
            "10\n",
            "20\n",
            "30\n",
            "40\n",
            "50\n",
            "60\n",
            "70\n",
            "80\n",
            "90\n",
            "100\n",
            "100\n"
          ]
        }
      ],
      "source": [
        "s = []\n",
        "score = 0\n",
        "for i in range(10):\n",
        "    s.append(int(input()))\n",
        "for j in s:\n",
        "    score += j\n",
        "    if score >= 100:\n",
        "        if score - 100 > 100 - (score - j):\n",
        "            score -= j\n",
        "        break\n",
        "print(score)"
      ]
    }
  ]
}