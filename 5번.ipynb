{
  "nbformat": 4,
  "nbformat_minor": 0,
  "metadata": {
    "colab": {
      "name": "5번.ipynb",
      "provenance": [],
      "collapsed_sections": [],
      "authorship_tag": "ABX9TyOAtq97shwxwffs1SdF8fJ0",
      "include_colab_link": true
    },
    "kernelspec": {
      "name": "python3",
      "display_name": "Python 3"
    },
    "language_info": {
      "name": "python"
    }
  },
  "cells": [
    {
      "cell_type": "markdown",
      "metadata": {
        "id": "view-in-github",
        "colab_type": "text"
      },
      "source": [
        "<a href=\"https://colab.research.google.com/github/eejuya/BCP/blob/main/5%EB%B2%88.ipynb\" target=\"_parent\"><img src=\"https://colab.research.google.com/assets/colab-badge.svg\" alt=\"Open In Colab\"/></a>"
      ]
    },
    {
      "cell_type": "code",
      "execution_count": 2,
      "metadata": {
        "colab": {
          "base_uri": "https://localhost:8080/"
        },
        "id": "J1vWsAf_OsP-",
        "outputId": "a11339e3-c5a8-457f-ccbc-a8cbcb85aa9a"
      },
      "outputs": [
        {
          "output_type": "stream",
          "name": "stdout",
          "text": [
            "20\n",
            "17664\n"
          ]
        }
      ],
      "source": [
        "n = int(input())\n",
        "x = 1\n",
        "for i in range(2,n+1):\n",
        "    x*=i\n",
        "    while True:\n",
        "        if str(x)[-1] == \"0\":\n",
        "            x //= 10\n",
        "        else:\n",
        "            break\n",
        "    x%=100000000000000000\n",
        "print(str(x)[-5:])"
      ]
    }
  ]
}