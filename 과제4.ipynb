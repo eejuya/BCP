{
  "nbformat": 4,
  "nbformat_minor": 0,
  "metadata": {
    "colab": {
      "name": "과제4.ipynb",
      "provenance": [],
      "collapsed_sections": [],
      "authorship_tag": "ABX9TyNXTh6Ztfre1lcOtnd2C0kD",
      "include_colab_link": true
    },
    "kernelspec": {
      "name": "python3",
      "display_name": "Python 3"
    },
    "language_info": {
      "name": "python"
    }
  },
  "cells": [
    {
      "cell_type": "markdown",
      "metadata": {
        "id": "view-in-github",
        "colab_type": "text"
      },
      "source": [
        "<a href=\"https://colab.research.google.com/github/eejuya/BCP/blob/main/%EA%B3%BC%EC%A0%9C4.ipynb\" target=\"_parent\"><img src=\"https://colab.research.google.com/assets/colab-badge.svg\" alt=\"Open In Colab\"/></a>"
      ]
    },
    {
      "cell_type": "code",
      "execution_count": 3,
      "metadata": {
        "colab": {
          "base_uri": "https://localhost:8080/"
        },
        "id": "zW1DLdUmkz4Q",
        "outputId": "55a74f47-ec34-4c17-9098-de14bbac4dda"
      },
      "outputs": [
        {
          "output_type": "stream",
          "name": "stdout",
          "text": [
            "ali ja sam i jucer jeo\n",
            "AJSJJ\n"
          ]
        }
      ],
      "source": [
        "a = ['i', 'pa', 'te', 'ni', 'niti', 'a', 'ali', 'nego', 'no', 'ili']\n",
        "b = input().split()\n",
        "r = b[0][0]\n",
        "\n",
        "for i in range(1,len(b)):\n",
        "  if b[i] in a:\n",
        "    continue\n",
        "  r += b[i][0]\n",
        "print(r.upper())\n"
      ]
    }
  ]
}